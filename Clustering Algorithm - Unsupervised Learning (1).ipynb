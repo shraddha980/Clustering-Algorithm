{
 "cells": [
  {
   "cell_type": "markdown",
   "id": "2812a00d",
   "metadata": {},
   "source": [
    "### Unsupervised Learning"
   ]
  },
  {
   "cell_type": "markdown",
   "id": "26abd0d4",
   "metadata": {},
   "source": [
    "* We devide our dataset into supervised or unsupervised learning depending on the fact that if labelled information is given\n",
    "to us or not and if we want to make use of that labelled information to make conclusions.Here, we do not have any prior \n",
    "information about the dataset. We are supposed to find patterns in our dataset using given information.Such a problem statement falls under unsupervised learning. There are different types of methods used to detect patterns in the dataset like \n",
    "centroid based clustering or non hierarchical based clustering/ Distance based clustering which consists of K-means, K-means++, Density based clustering which consists DBSCAN Clustering,Distribution based clustering, Hierarchical Clustering which consists of Aglomerative Clustering.\n",
    "\n",
    "* Clustering algorithms have multiple applications like customer segmentation, anomly detection, image segmentation, semi-supervised learning, for dimensionality reduction, data analysis etc."
   ]
  },
  {
   "cell_type": "markdown",
   "id": "9a990a48",
   "metadata": {},
   "source": [
    "### Exploratory Data Analysis"
   ]
  },
  {
   "cell_type": "code",
   "execution_count": 153,
   "id": "8cbef17d",
   "metadata": {},
   "outputs": [],
   "source": [
    "#Importing Libraries\n",
    "import pandas as pd\n",
    "import numpy as np\n",
    "import matplotlib.pyplot as plt\n",
    "%matplotlib inline\n",
    "import seaborn as sns\n",
    "import plotly.express as px"
   ]
  },
  {
   "cell_type": "code",
   "execution_count": 5,
   "id": "c50b9232",
   "metadata": {},
   "outputs": [],
   "source": [
    "#loading the data\n",
    "df = pd.read_csv(r\"https://raw.githubusercontent.com/NelakurthiSudheer/Mall-Customers-Segmentation/main/Dataset/Mall_Customers.csv\")"
   ]
  },
  {
   "cell_type": "markdown",
   "id": "3da06d2d",
   "metadata": {},
   "source": [
    "### DataSet Overview"
   ]
  },
  {
   "cell_type": "raw",
   "id": "ac384aee",
   "metadata": {},
   "source": [
    "> The Data Set we use is the Mall Customers Dataset\n",
    "> It consists of 5 columns\n",
    "> Each customer has a unique customer ID\n",
    "> The Gender Column tells us if customer is Male or Female\n",
    "> The Age Column gives us the approximate age of the customer\n",
    "> The Annual Income gives us the income of customer in Thousand Dollars\n",
    "> The Spending Score tells us about spending habit of customer of 100 being the highest score. It is given by the mall to the\n",
    "customers for their spending behavior"
   ]
  },
  {
   "cell_type": "markdown",
   "id": "52c47cf1",
   "metadata": {},
   "source": [
    "### Business Problem"
   ]
  },
  {
   "cell_type": "raw",
   "id": "f39ae9e1",
   "metadata": {},
   "source": [
    "Based on the above 4 Columns we have to group customers having a high spending score ( The most Loyal Customers )."
   ]
  },
  {
   "cell_type": "markdown",
   "id": "0dc17bdd",
   "metadata": {},
   "source": [
    "### STATISTICAL ANALYSIS"
   ]
  },
  {
   "cell_type": "code",
   "execution_count": 6,
   "id": "328b35a8",
   "metadata": {},
   "outputs": [
    {
     "data": {
      "text/html": [
       "<div>\n",
       "<style scoped>\n",
       "    .dataframe tbody tr th:only-of-type {\n",
       "        vertical-align: middle;\n",
       "    }\n",
       "\n",
       "    .dataframe tbody tr th {\n",
       "        vertical-align: top;\n",
       "    }\n",
       "\n",
       "    .dataframe thead th {\n",
       "        text-align: right;\n",
       "    }\n",
       "</style>\n",
       "<table border=\"1\" class=\"dataframe\">\n",
       "  <thead>\n",
       "    <tr style=\"text-align: right;\">\n",
       "      <th></th>\n",
       "      <th>CustomerID</th>\n",
       "      <th>Gender</th>\n",
       "      <th>Age</th>\n",
       "      <th>Annual Income (k$)</th>\n",
       "      <th>Spending Score (1-100)</th>\n",
       "    </tr>\n",
       "  </thead>\n",
       "  <tbody>\n",
       "    <tr>\n",
       "      <th>0</th>\n",
       "      <td>1</td>\n",
       "      <td>Male</td>\n",
       "      <td>19</td>\n",
       "      <td>15</td>\n",
       "      <td>39</td>\n",
       "    </tr>\n",
       "    <tr>\n",
       "      <th>1</th>\n",
       "      <td>2</td>\n",
       "      <td>Male</td>\n",
       "      <td>21</td>\n",
       "      <td>15</td>\n",
       "      <td>81</td>\n",
       "    </tr>\n",
       "    <tr>\n",
       "      <th>2</th>\n",
       "      <td>3</td>\n",
       "      <td>Female</td>\n",
       "      <td>20</td>\n",
       "      <td>16</td>\n",
       "      <td>6</td>\n",
       "    </tr>\n",
       "    <tr>\n",
       "      <th>3</th>\n",
       "      <td>4</td>\n",
       "      <td>Female</td>\n",
       "      <td>23</td>\n",
       "      <td>16</td>\n",
       "      <td>77</td>\n",
       "    </tr>\n",
       "    <tr>\n",
       "      <th>4</th>\n",
       "      <td>5</td>\n",
       "      <td>Female</td>\n",
       "      <td>31</td>\n",
       "      <td>17</td>\n",
       "      <td>40</td>\n",
       "    </tr>\n",
       "    <tr>\n",
       "      <th>5</th>\n",
       "      <td>6</td>\n",
       "      <td>Female</td>\n",
       "      <td>22</td>\n",
       "      <td>17</td>\n",
       "      <td>76</td>\n",
       "    </tr>\n",
       "    <tr>\n",
       "      <th>6</th>\n",
       "      <td>7</td>\n",
       "      <td>Female</td>\n",
       "      <td>35</td>\n",
       "      <td>18</td>\n",
       "      <td>6</td>\n",
       "    </tr>\n",
       "    <tr>\n",
       "      <th>7</th>\n",
       "      <td>8</td>\n",
       "      <td>Female</td>\n",
       "      <td>23</td>\n",
       "      <td>18</td>\n",
       "      <td>94</td>\n",
       "    </tr>\n",
       "    <tr>\n",
       "      <th>8</th>\n",
       "      <td>9</td>\n",
       "      <td>Male</td>\n",
       "      <td>64</td>\n",
       "      <td>19</td>\n",
       "      <td>3</td>\n",
       "    </tr>\n",
       "    <tr>\n",
       "      <th>9</th>\n",
       "      <td>10</td>\n",
       "      <td>Female</td>\n",
       "      <td>30</td>\n",
       "      <td>19</td>\n",
       "      <td>72</td>\n",
       "    </tr>\n",
       "  </tbody>\n",
       "</table>\n",
       "</div>"
      ],
      "text/plain": [
       "   CustomerID  Gender  Age  Annual Income (k$)  Spending Score (1-100)\n",
       "0           1    Male   19                  15                      39\n",
       "1           2    Male   21                  15                      81\n",
       "2           3  Female   20                  16                       6\n",
       "3           4  Female   23                  16                      77\n",
       "4           5  Female   31                  17                      40\n",
       "5           6  Female   22                  17                      76\n",
       "6           7  Female   35                  18                       6\n",
       "7           8  Female   23                  18                      94\n",
       "8           9    Male   64                  19                       3\n",
       "9          10  Female   30                  19                      72"
      ]
     },
     "execution_count": 6,
     "metadata": {},
     "output_type": "execute_result"
    }
   ],
   "source": [
    "#checking the first 10 rows of data\n",
    "df.head(10)"
   ]
  },
  {
   "cell_type": "code",
   "execution_count": 7,
   "id": "87209f84",
   "metadata": {},
   "outputs": [
    {
     "data": {
      "text/html": [
       "<div>\n",
       "<style scoped>\n",
       "    .dataframe tbody tr th:only-of-type {\n",
       "        vertical-align: middle;\n",
       "    }\n",
       "\n",
       "    .dataframe tbody tr th {\n",
       "        vertical-align: top;\n",
       "    }\n",
       "\n",
       "    .dataframe thead th {\n",
       "        text-align: right;\n",
       "    }\n",
       "</style>\n",
       "<table border=\"1\" class=\"dataframe\">\n",
       "  <thead>\n",
       "    <tr style=\"text-align: right;\">\n",
       "      <th></th>\n",
       "      <th>CustomerID</th>\n",
       "      <th>Age</th>\n",
       "      <th>Annual Income (k$)</th>\n",
       "      <th>Spending Score (1-100)</th>\n",
       "    </tr>\n",
       "  </thead>\n",
       "  <tbody>\n",
       "    <tr>\n",
       "      <th>count</th>\n",
       "      <td>200.000000</td>\n",
       "      <td>200.000000</td>\n",
       "      <td>200.000000</td>\n",
       "      <td>200.000000</td>\n",
       "    </tr>\n",
       "    <tr>\n",
       "      <th>mean</th>\n",
       "      <td>100.500000</td>\n",
       "      <td>38.850000</td>\n",
       "      <td>60.560000</td>\n",
       "      <td>50.200000</td>\n",
       "    </tr>\n",
       "    <tr>\n",
       "      <th>std</th>\n",
       "      <td>57.879185</td>\n",
       "      <td>13.969007</td>\n",
       "      <td>26.264721</td>\n",
       "      <td>25.823522</td>\n",
       "    </tr>\n",
       "    <tr>\n",
       "      <th>min</th>\n",
       "      <td>1.000000</td>\n",
       "      <td>18.000000</td>\n",
       "      <td>15.000000</td>\n",
       "      <td>1.000000</td>\n",
       "    </tr>\n",
       "    <tr>\n",
       "      <th>25%</th>\n",
       "      <td>50.750000</td>\n",
       "      <td>28.750000</td>\n",
       "      <td>41.500000</td>\n",
       "      <td>34.750000</td>\n",
       "    </tr>\n",
       "    <tr>\n",
       "      <th>50%</th>\n",
       "      <td>100.500000</td>\n",
       "      <td>36.000000</td>\n",
       "      <td>61.500000</td>\n",
       "      <td>50.000000</td>\n",
       "    </tr>\n",
       "    <tr>\n",
       "      <th>75%</th>\n",
       "      <td>150.250000</td>\n",
       "      <td>49.000000</td>\n",
       "      <td>78.000000</td>\n",
       "      <td>73.000000</td>\n",
       "    </tr>\n",
       "    <tr>\n",
       "      <th>max</th>\n",
       "      <td>200.000000</td>\n",
       "      <td>70.000000</td>\n",
       "      <td>137.000000</td>\n",
       "      <td>99.000000</td>\n",
       "    </tr>\n",
       "  </tbody>\n",
       "</table>\n",
       "</div>"
      ],
      "text/plain": [
       "       CustomerID         Age  Annual Income (k$)  Spending Score (1-100)\n",
       "count  200.000000  200.000000          200.000000              200.000000\n",
       "mean   100.500000   38.850000           60.560000               50.200000\n",
       "std     57.879185   13.969007           26.264721               25.823522\n",
       "min      1.000000   18.000000           15.000000                1.000000\n",
       "25%     50.750000   28.750000           41.500000               34.750000\n",
       "50%    100.500000   36.000000           61.500000               50.000000\n",
       "75%    150.250000   49.000000           78.000000               73.000000\n",
       "max    200.000000   70.000000          137.000000               99.000000"
      ]
     },
     "execution_count": 7,
     "metadata": {},
     "output_type": "execute_result"
    }
   ],
   "source": [
    "#checking statistics of data\n",
    "df.describe()"
   ]
  },
  {
   "cell_type": "code",
   "execution_count": 20,
   "id": "abd849b8",
   "metadata": {},
   "outputs": [
    {
     "data": {
      "text/plain": [
       "CustomerID                200\n",
       "Gender                      2\n",
       "Age                        51\n",
       "Annual Income (k$)         64\n",
       "Spending Score (1-100)     84\n",
       "dtype: int64"
      ]
     },
     "execution_count": 20,
     "metadata": {},
     "output_type": "execute_result"
    }
   ],
   "source": [
    "#check no of unique values in each column\n",
    "df.nunique()"
   ]
  },
  {
   "cell_type": "code",
   "execution_count": 22,
   "id": "32db0904",
   "metadata": {},
   "outputs": [
    {
     "data": {
      "text/plain": [
       "(200, 5)"
      ]
     },
     "execution_count": 22,
     "metadata": {},
     "output_type": "execute_result"
    }
   ],
   "source": [
    "#check no of rows and columns \n",
    "df.shape"
   ]
  },
  {
   "cell_type": "code",
   "execution_count": 25,
   "id": "00544d3a",
   "metadata": {},
   "outputs": [
    {
     "data": {
      "text/plain": [
       "CustomerID                0\n",
       "Gender                    0\n",
       "Age                       0\n",
       "Annual Income (k$)        0\n",
       "Spending Score (1-100)    0\n",
       "dtype: int64"
      ]
     },
     "execution_count": 25,
     "metadata": {},
     "output_type": "execute_result"
    }
   ],
   "source": [
    "#check null values\n",
    "df.isnull().sum()"
   ]
  },
  {
   "cell_type": "raw",
   "id": "b7f585c3",
   "metadata": {},
   "source": [
    "Observation:\n",
    "\n",
    "> We have customers between 18 to 70 yrs of age group. The age of most customers is arounf 36yrs ( median age group )\n",
    "> We have 75% of customers euqal to or below 49yrs of age.\n",
    "> We have customers whose annual income is between 15k to 137k.\n",
    "> We have 75% of customers with income equal to or below 78k\n",
    "> We have 0 Null Values\n",
    "> We have Male and Female Customers\n",
    "> We have 200 Rows and 5 Columns\n",
    "> Age, Annual Income and Spending Score have multiple Unique Values"
   ]
  },
  {
   "cell_type": "markdown",
   "id": "09ce86d0",
   "metadata": {},
   "source": [
    "#### GRAPHICAL ANALYSIS"
   ]
  },
  {
   "cell_type": "code",
   "execution_count": 33,
   "id": "111e0b62",
   "metadata": {},
   "outputs": [
    {
     "name": "stderr",
     "output_type": "stream",
     "text": [
      "D:\\Anaconda\\lib\\site-packages\\seaborn\\_decorators.py:36: FutureWarning: Pass the following variable as a keyword arg: x. From version 0.12, the only valid positional argument will be `data`, and passing other arguments without an explicit keyword will result in an error or misinterpretation.\n",
      "  warnings.warn(\n"
     ]
    },
    {
     "data": {
      "text/plain": [
       "<AxesSubplot:xlabel='Gender', ylabel='count'>"
      ]
     },
     "execution_count": 33,
     "metadata": {},
     "output_type": "execute_result"
    },
    {
     "data": {
      "image/png": "[encoded data removed]",
      "text/plain": [
       "<Figure size 432x288 with 1 Axes>"
      ]
     },
     "metadata": {
      "needs_background": "light"
     },
     "output_type": "display_data"
    }
   ],
   "source": [
    "#check count of male Vs females\n",
    "import seaborn as sns\n",
    "sns.countplot(df['Gender'])"
   ]
  },
  {
   "cell_type": "markdown",
   "id": "c23aa791",
   "metadata": {},
   "source": [
    "The Mall has more number of Female Customers"
   ]
  },
  {
   "cell_type": "code",
   "execution_count": 96,
   "id": "5e984bc5",
   "metadata": {},
   "outputs": [
    {
     "data": {
      "text/plain": [
       "Text(0.5, 1.0, \"Distribution of Customer's Age (Yrs)\")"
      ]
     },
     "execution_count": 96,
     "metadata": {},
     "output_type": "execute_result"
    },
    {
     "data": {
      "image/png": "[encoded data removed]",
      "text/plain": [
       "<Figure size 432x288 with 1 Axes>"
      ]
     },
     "metadata": {
      "needs_background": "light"
     },
     "output_type": "display_data"
    }
   ],
   "source": [
    "# Age Distribution plot\n",
    "sns.histplot(data=df, x=\"Age\", bins = list(range(10, 100, 10)))\n",
    "plt.title(\"Distribution of Customer's Age (Yrs)\")"
   ]
  },
  {
   "cell_type": "markdown",
   "id": "d8d321ae",
   "metadata": {},
   "source": [
    "There are more customers <45 years of age. The Distribution of Age variable is Right-Skewed."
   ]
  },
  {
   "cell_type": "code",
   "execution_count": 45,
   "id": "c5a3b93a",
   "metadata": {},
   "outputs": [
    {
     "data": {
      "text/plain": [
       "Text(0.5, 1.0, \"Distribution of Customer's Annual Income(k$)\")"
      ]
     },
     "execution_count": 45,
     "metadata": {},
     "output_type": "execute_result"
    },
    {
     "data": {
      "image/png": "[encoded data removed]",
      "text/plain": [
       "<Figure size 432x288 with 1 Axes>"
      ]
     },
     "metadata": {
      "needs_background": "light"
     },
     "output_type": "display_data"
    }
   ],
   "source": [
    "# Annual Income Distribution plot\n",
    "sns.histplot(data=df, x=\"Annual Income (k$)\", bins = list(range(10, 200, 10)))\n",
    "plt.title(\"Distribution of Customer's Annual Income(k$)\")"
   ]
  },
  {
   "cell_type": "markdown",
   "id": "285321e4",
   "metadata": {},
   "source": [
    "The Distribution of Customers Annual Income variable is also Right-Skewed. Most customers have income in the range 50k - 80k."
   ]
  },
  {
   "cell_type": "code",
   "execution_count": 50,
   "id": "da280cce",
   "metadata": {},
   "outputs": [
    {
     "data": {
      "text/plain": [
       "Text(0.5, 1.0, \"Distribution of Customer's Spending Score (1-100)\")"
      ]
     },
     "execution_count": 50,
     "metadata": {},
     "output_type": "execute_result"
    },
    {
     "data": {
      "image/png": "[encoded data removed]",
      "text/plain": [
       "<Figure size 432x288 with 1 Axes>"
      ]
     },
     "metadata": {
      "needs_background": "light"
     },
     "output_type": "display_data"
    }
   ],
   "source": [
    "# Spending Dist Score Distribution plot\n",
    "sns.histplot(data=df, x=\" \", bins = list(range(10, 130, 10)))\n",
    "plt.title(\"Distribution of Customer's Spending Score (1-100)\")"
   ]
  },
  {
   "cell_type": "markdown",
   "id": "4a119118",
   "metadata": {},
   "source": [
    "Spending Score Variable has normal distribution. Both high-spending and low-spending is equally spread at both the ends."
   ]
  },
  {
   "cell_type": "code",
   "execution_count": 174,
   "id": "21a49d6f",
   "metadata": {},
   "outputs": [
    {
     "data": {
      "text/plain": [
       "<AxesSubplot:xlabel='Annual Income (k$)', ylabel='Age'>"
      ]
     },
     "execution_count": 174,
     "metadata": {},
     "output_type": "execute_result"
    },
    {
     "data": {
      "image/png": "[encoded data removed]",
      "text/plain": [
       "<Figure size 432x288 with 1 Axes>"
      ]
     },
     "metadata": {
      "needs_background": "light"
     },
     "output_type": "display_data"
    }
   ],
   "source": [
    "# Relationship between Age and Annual Income\n",
    "\n",
    "sns.scatterplot(data=df, x=\"Annual Income (k$)\",\n",
    "                 y=\"Age\"\n",
    "                )\n"
   ]
  },
  {
   "cell_type": "code",
   "execution_count": 85,
   "id": "1ab2629e",
   "metadata": {},
   "outputs": [
    {
     "data": {
      "text/plain": [
       "<AxesSubplot:xlabel='Gender', ylabel='Annual Income (k$)'>"
      ]
     },
     "execution_count": 85,
     "metadata": {},
     "output_type": "execute_result"
    },
    {
     "data": {
      "image/png": "[encoded data removed]",
      "text/plain": [
       "<Figure size 432x288 with 1 Axes>"
      ]
     },
     "metadata": {
      "needs_background": "light"
     },
     "output_type": "display_data"
    }
   ],
   "source": [
    "# Relationship between Gender and Annual Income\n",
    "\n",
    "sns.scatterplot(data=df, x=\"Gender\",\n",
    "                 y=\"Annual Income (k$)\")"
   ]
  },
  {
   "cell_type": "code",
   "execution_count": 83,
   "id": "f77cd024",
   "metadata": {},
   "outputs": [
    {
     "data": {
      "text/plain": [
       "<AxesSubplot:xlabel='Age', ylabel='Spending Score (1-100)'>"
      ]
     },
     "execution_count": 83,
     "metadata": {},
     "output_type": "execute_result"
    },
    {
     "data": {
      "image/png": "[encoded data removed]",
      "text/plain": [
       "<Figure size 432x288 with 1 Axes>"
      ]
     },
     "metadata": {
      "needs_background": "light"
     },
     "output_type": "display_data"
    }
   ],
   "source": [
    "# Relationship between Age and Spending Score\n",
    "\n",
    "sns.scatterplot(data=df, x=\"Age\",\n",
    "                 y=\"Spending Score (1-100)\")"
   ]
  },
  {
   "cell_type": "code",
   "execution_count": 82,
   "id": "c400c582",
   "metadata": {},
   "outputs": [
    {
     "data": {
      "text/plain": [
       "<AxesSubplot:xlabel='Gender', ylabel='Spending Score (1-100)'>"
      ]
     },
     "execution_count": 82,
     "metadata": {},
     "output_type": "execute_result"
    },
    {
     "data": {
      "image/png": "[encoded data removed]",
      "text/plain": [
       "<Figure size 432x288 with 1 Axes>"
      ]
     },
     "metadata": {
      "needs_background": "light"
     },
     "output_type": "display_data"
    }
   ],
   "source": [
    "# Relationship between Gender and Spending Score\n",
    "\n",
    "sns.scatterplot(data=df, x=\"Gender\",\n",
    "                 y=\"Spending Score (1-100)\")\n",
    "                "
   ]
  },
  {
   "cell_type": "code",
   "execution_count": 68,
   "id": "9a238be1",
   "metadata": {},
   "outputs": [
    {
     "data": {
      "text/plain": [
       "<AxesSubplot:>"
      ]
     },
     "execution_count": 68,
     "metadata": {},
     "output_type": "execute_result"
    },
    {
     "data": {
      "image/png": "[encoded data removed]",
      "text/plain": [
       "<Figure size 432x288 with 1 Axes>"
      ]
     },
     "metadata": {
      "needs_background": "light"
     },
     "output_type": "display_data"
    }
   ],
   "source": [
    "df.boxplot(column=['Age', 'Annual Income (k$)', 'Spending Score (1-100)'])"
   ]
  },
  {
   "cell_type": "markdown",
   "id": "69e3b04e",
   "metadata": {},
   "source": [
    "#### REMOVING OUTLIERS"
   ]
  },
  {
   "cell_type": "code",
   "execution_count": 87,
   "id": "33d952ac",
   "metadata": {},
   "outputs": [
    {
     "name": "stdout",
     "output_type": "stream",
     "text": [
      "Old Shape:  (200, 5)\n",
      "New Shape:       CustomerID  Gender  Age  Annual Income (k$)  Spending Score (1-100)\n",
      "0             1    Male   19                  15                      39\n",
      "1             2    Male   21                  15                      81\n",
      "2             3  Female   20                  16                       6\n",
      "3             4  Female   23                  16                      77\n",
      "4             5  Female   31                  17                      40\n",
      "..          ...     ...  ...                 ...                     ...\n",
      "193         194  Female   38                 113                      91\n",
      "194         195  Female   47                 120                      16\n",
      "195         196  Female   35                 120                      79\n",
      "196         197  Female   45                 126                      28\n",
      "197         198    Male   32                 126                      74\n",
      "\n",
      "[198 rows x 5 columns]\n"
     ]
    }
   ],
   "source": [
    "# Importing\n",
    "import sklearn\n",
    "\n",
    "''' Detection '''\n",
    "# IQR\n",
    "Q1 = np.percentile(df['Annual Income (k$)'], 25,interpolation = 'midpoint')\n",
    "\n",
    "Q3 = np.percentile(df['Annual Income (k$)'], 75,interpolation = 'midpoint')\n",
    "IQR = Q3 - Q1\n",
    "\n",
    "print(\"Old Shape: \", df.shape)\n",
    "\n",
    "# Upper bound\n",
    "upper = np.where(df['Annual Income (k$)'] >= (Q3+1.5*IQR))\n",
    "# Lower bound\n",
    "lower = np.where(df['Annual Income (k$)'] <= (Q1-1.5*IQR))\n",
    "\n",
    "''' Removing the Outliers '''\n",
    "df.drop(upper[0], inplace = True)\n",
    "df.drop(lower[0], inplace = True)\n",
    "\n",
    "print(\"New Shape: \", df)\n"
   ]
  },
  {
   "cell_type": "code",
   "execution_count": 537,
   "id": "0c1ee428",
   "metadata": {},
   "outputs": [
    {
     "data": {
      "text/plain": [
       "(198, 7)"
      ]
     },
     "execution_count": 537,
     "metadata": {},
     "output_type": "execute_result"
    }
   ],
   "source": [
    "df.shape"
   ]
  },
  {
   "cell_type": "markdown",
   "id": "cf400de7",
   "metadata": {},
   "source": [
    "#### CATEGORICAL TO NUMERICAL CONVERSION"
   ]
  },
  {
   "cell_type": "code",
   "execution_count": 100,
   "id": "f349f0fc",
   "metadata": {},
   "outputs": [],
   "source": [
    "#Converting gender column to numerical column\n",
    "df = pd.get_dummies(df, columns=['Gender'])"
   ]
  },
  {
   "cell_type": "code",
   "execution_count": 109,
   "id": "c180c0e4",
   "metadata": {},
   "outputs": [
    {
     "data": {
      "text/html": [
       "<div>\n",
       "<style scoped>\n",
       "    .dataframe tbody tr th:only-of-type {\n",
       "        vertical-align: middle;\n",
       "    }\n",
       "\n",
       "    .dataframe tbody tr th {\n",
       "        vertical-align: top;\n",
       "    }\n",
       "\n",
       "    .dataframe thead th {\n",
       "        text-align: right;\n",
       "    }\n",
       "</style>\n",
       "<table border=\"1\" class=\"dataframe\">\n",
       "  <thead>\n",
       "    <tr style=\"text-align: right;\">\n",
       "      <th></th>\n",
       "      <th>Age</th>\n",
       "      <th>Annual Income (k$)</th>\n",
       "      <th>Spending Score (1-100)</th>\n",
       "      <th>Gender_Female</th>\n",
       "      <th>Gender_Male</th>\n",
       "    </tr>\n",
       "  </thead>\n",
       "  <tbody>\n",
       "    <tr>\n",
       "      <th>0</th>\n",
       "      <td>19</td>\n",
       "      <td>15</td>\n",
       "      <td>39</td>\n",
       "      <td>0</td>\n",
       "      <td>1</td>\n",
       "    </tr>\n",
       "    <tr>\n",
       "      <th>1</th>\n",
       "      <td>21</td>\n",
       "      <td>15</td>\n",
       "      <td>81</td>\n",
       "      <td>0</td>\n",
       "      <td>1</td>\n",
       "    </tr>\n",
       "    <tr>\n",
       "      <th>2</th>\n",
       "      <td>20</td>\n",
       "      <td>16</td>\n",
       "      <td>6</td>\n",
       "      <td>1</td>\n",
       "      <td>0</td>\n",
       "    </tr>\n",
       "    <tr>\n",
       "      <th>3</th>\n",
       "      <td>23</td>\n",
       "      <td>16</td>\n",
       "      <td>77</td>\n",
       "      <td>1</td>\n",
       "      <td>0</td>\n",
       "    </tr>\n",
       "    <tr>\n",
       "      <th>4</th>\n",
       "      <td>31</td>\n",
       "      <td>17</td>\n",
       "      <td>40</td>\n",
       "      <td>1</td>\n",
       "      <td>0</td>\n",
       "    </tr>\n",
       "    <tr>\n",
       "      <th>...</th>\n",
       "      <td>...</td>\n",
       "      <td>...</td>\n",
       "      <td>...</td>\n",
       "      <td>...</td>\n",
       "      <td>...</td>\n",
       "    </tr>\n",
       "    <tr>\n",
       "      <th>193</th>\n",
       "      <td>38</td>\n",
       "      <td>113</td>\n",
       "      <td>91</td>\n",
       "      <td>1</td>\n",
       "      <td>0</td>\n",
       "    </tr>\n",
       "    <tr>\n",
       "      <th>194</th>\n",
       "      <td>47</td>\n",
       "      <td>120</td>\n",
       "      <td>16</td>\n",
       "      <td>1</td>\n",
       "      <td>0</td>\n",
       "    </tr>\n",
       "    <tr>\n",
       "      <th>195</th>\n",
       "      <td>35</td>\n",
       "      <td>120</td>\n",
       "      <td>79</td>\n",
       "      <td>1</td>\n",
       "      <td>0</td>\n",
       "    </tr>\n",
       "    <tr>\n",
       "      <th>196</th>\n",
       "      <td>45</td>\n",
       "      <td>126</td>\n",
       "      <td>28</td>\n",
       "      <td>1</td>\n",
       "      <td>0</td>\n",
       "    </tr>\n",
       "    <tr>\n",
       "      <th>197</th>\n",
       "      <td>32</td>\n",
       "      <td>126</td>\n",
       "      <td>74</td>\n",
       "      <td>0</td>\n",
       "      <td>1</td>\n",
       "    </tr>\n",
       "  </tbody>\n",
       "</table>\n",
       "<p>198 rows × 5 columns</p>\n",
       "</div>"
      ],
      "text/plain": [
       "     Age  Annual Income (k$)  Spending Score (1-100)  Gender_Female  \\\n",
       "0     19                  15                      39              0   \n",
       "1     21                  15                      81              0   \n",
       "2     20                  16                       6              1   \n",
       "3     23                  16                      77              1   \n",
       "4     31                  17                      40              1   \n",
       "..   ...                 ...                     ...            ...   \n",
       "193   38                 113                      91              1   \n",
       "194   47                 120                      16              1   \n",
       "195   35                 120                      79              1   \n",
       "196   45                 126                      28              1   \n",
       "197   32                 126                      74              0   \n",
       "\n",
       "     Gender_Male  \n",
       "0              1  \n",
       "1              1  \n",
       "2              0  \n",
       "3              0  \n",
       "4              0  \n",
       "..           ...  \n",
       "193            0  \n",
       "194            0  \n",
       "195            0  \n",
       "196            0  \n",
       "197            1  \n",
       "\n",
       "[198 rows x 5 columns]"
      ]
     },
     "execution_count": 109,
     "metadata": {},
     "output_type": "execute_result"
    }
   ],
   "source": [
    "#Dropping CustomerID Column\n",
    "df.drop(['CustomerID'], axis=1)"
   ]
  },
  {
   "cell_type": "markdown",
   "id": "3cbabe49",
   "metadata": {},
   "source": [
    "#### STANDARD SCALING "
   ]
  },
  {
   "cell_type": "code",
   "execution_count": 538,
   "id": "a94d4713",
   "metadata": {},
   "outputs": [],
   "source": [
    "from sklearn.preprocessing import StandardScaler\n",
    "from sklearn.cluster import KMeans\n",
    "std_scaler = StandardScaler()\n",
    "df_scaled = std_scaler.fit_transform(df)"
   ]
  },
  {
   "cell_type": "code",
   "execution_count": 539,
   "id": "8ebce2e1",
   "metadata": {},
   "outputs": [
    {
     "data": {
      "text/plain": [
       "array([[-1.72332506, -1.42541358, -1.77917141, ..., -1.1411948 ,\n",
       "         1.1411948 ,  0.42262653],\n",
       "       [-1.70582937, -1.2823665 , -1.77917141, ..., -1.1411948 ,\n",
       "         1.1411948 ,  1.01192269],\n",
       "       [-1.68833368, -1.35389004, -1.73944701, ...,  0.87627458,\n",
       "        -0.87627458,  0.42262653],\n",
       "       ...,\n",
       "       [ 1.68833368, -0.28103694,  2.39189012, ...,  0.87627458,\n",
       "        -0.87627458,  1.60121884],\n",
       "       [ 1.70582937,  0.43419846,  2.63023649, ...,  0.87627458,\n",
       "        -0.87627458, -1.34526193],\n",
       "       [ 1.72332506, -0.49560756,  2.63023649, ..., -1.1411948 ,\n",
       "         1.1411948 ,  1.60121884]])"
      ]
     },
     "execution_count": 539,
     "metadata": {},
     "output_type": "execute_result"
    }
   ],
   "source": [
    "df_scaled"
   ]
  },
  {
   "cell_type": "markdown",
   "id": "b6e08979",
   "metadata": {},
   "source": [
    "### Non-Hierarchical / Distance/ Centroid Based Clustering\n",
    "#### K-MEANS IMPLEMENTATION"
   ]
  },
  {
   "cell_type": "code",
   "execution_count": 182,
   "id": "e2ccdf75",
   "metadata": {},
   "outputs": [],
   "source": [
    "# Finding the optimal No of Clusters for K-Means implementation using WCSS (inertia method)"
   ]
  },
  {
   "cell_type": "markdown",
   "id": "e10722f1",
   "metadata": {},
   "source": [
    "#### ADVANTAGES"
   ]
  },
  {
   "cell_type": "markdown",
   "id": "4c27a306",
   "metadata": {},
   "source": [
    "1. It can be scaled to large datasets\n",
    "2. Simple to implement"
   ]
  },
  {
   "cell_type": "markdown",
   "id": "c7ba8c4f",
   "metadata": {},
   "source": [
    "#### DISADVANTAGES"
   ]
  },
  {
   "cell_type": "markdown",
   "id": "8bd875bc",
   "metadata": {},
   "source": [
    " 1. It requires to sepcify the number of clusters in advance\n",
    " 2. It cannot handle noisy data and outliers\n",
    " 3. It is not suitable to identify non-convex shapes"
   ]
  },
  {
   "cell_type": "code",
   "execution_count": 540,
   "id": "ddbf038e",
   "metadata": {},
   "outputs": [],
   "source": [
    "error = []"
   ]
  },
  {
   "cell_type": "markdown",
   "id": "ddc5e04a",
   "metadata": {},
   "source": [
    "The Elbow method runs k-means clustering on dataset for a range of values between 1 to 11. Then for each value of k computes an average score for all clusters. "
   ]
  },
  {
   "cell_type": "code",
   "execution_count": 541,
   "id": "ec70b10f",
   "metadata": {},
   "outputs": [
    {
     "name": "stderr",
     "output_type": "stream",
     "text": [
      "D:\\Anaconda\\lib\\site-packages\\sklearn\\cluster\\_kmeans.py:1036: UserWarning:\n",
      "\n",
      "KMeans is known to have a memory leak on Windows with MKL, when there are less chunks than available threads. You can avoid it by setting the environment variable OMP_NUM_THREADS=1.\n",
      "\n"
     ]
    }
   ],
   "source": [
    "\n",
    "for k in range(1, 11):\n",
    "    model = KMeans(n_clusters=k, random_state=42)\n",
    "    model.fit(df_scaled)\n",
    "    error.append(model.inertia_)\n"
   ]
  },
  {
   "cell_type": "code",
   "execution_count": 542,
   "id": "f0c7b5e5",
   "metadata": {},
   "outputs": [
    {
     "data": {
      "text/plain": [
       "<AxesSubplot:title={'center':'The Elbow Method'}, xlabel='k', ylabel='Error of Cluster'>"
      ]
     },
     "execution_count": 542,
     "metadata": {},
     "output_type": "execute_result"
    },
    {
     "data": {
      "image/png": "[encoded data removed]",
      "text/plain": [
       "<Figure size 432x288 with 1 Axes>"
      ]
     },
     "metadata": {
      "needs_background": "light"
     },
     "output_type": "display_data"
    }
   ],
   "source": [
    "plt.title('The Elbow Method')\n",
    "plt.xlabel('k')\n",
    "plt.ylabel('Error of Cluster')\n",
    "sns.pointplot(x=list(range(1, 11)), y=error)"
   ]
  },
  {
   "cell_type": "code",
   "execution_count": 543,
   "id": "9fc85031",
   "metadata": {},
   "outputs": [],
   "source": [
    "error_kmeans = []"
   ]
  },
  {
   "cell_type": "code",
   "execution_count": 544,
   "id": "ac8a3ce0",
   "metadata": {},
   "outputs": [
    {
     "name": "stderr",
     "output_type": "stream",
     "text": [
      "D:\\Anaconda\\lib\\site-packages\\sklearn\\cluster\\_kmeans.py:1036: UserWarning:\n",
      "\n",
      "KMeans is known to have a memory leak on Windows with MKL, when there are less chunks than available threads. You can avoid it by setting the environment variable OMP_NUM_THREADS=1.\n",
      "\n"
     ]
    }
   ],
   "source": [
    "for k in range(1, 11):\n",
    "    model = KMeans(n_clusters=k, init = 'k-means++', random_state=42)\n",
    "    model.fit(df_scaled)\n",
    "    error_kmeans.append(model.inertia_)"
   ]
  },
  {
   "cell_type": "code",
   "execution_count": 545,
   "id": "0bd71c2a",
   "metadata": {},
   "outputs": [
    {
     "data": {
      "text/plain": [
       "<AxesSubplot:title={'center':'The Elbow Method'}, xlabel='k', ylabel='Error of Cluster'>"
      ]
     },
     "execution_count": 545,
     "metadata": {},
     "output_type": "execute_result"
    },
    {
     "data": {
      "image/png": "[encoded data removed]",
      "text/plain": [
       "<Figure size 432x288 with 1 Axes>"
      ]
     },
     "metadata": {
      "needs_background": "light"
     },
     "output_type": "display_data"
    }
   ],
   "source": [
    "plt.title('The Elbow Method')\n",
    "plt.xlabel('k')\n",
    "plt.ylabel('Error of Cluster')\n",
    "sns.pointplot(x=list(range(1, 11)), y=error_kmeans)"
   ]
  },
  {
   "cell_type": "markdown",
   "id": "80b1f42d",
   "metadata": {},
   "source": [
    "#### Apply K=3,4,5,6 "
   ]
  },
  {
   "cell_type": "code",
   "execution_count": 546,
   "id": "4f482cfc",
   "metadata": {},
   "outputs": [
    {
     "data": {
      "text/plain": [
       "KMeans(n_clusters=3, random_state=42)"
      ]
     },
     "execution_count": 546,
     "metadata": {},
     "output_type": "execute_result"
    }
   ],
   "source": [
    "model = KMeans(n_clusters = 3, random_state=42)\n",
    "model.fit(df_scaled)"
   ]
  },
  {
   "cell_type": "code",
   "execution_count": 547,
   "id": "813367f2",
   "metadata": {},
   "outputs": [
    {
     "data": {
      "text/plain": [
       "array([0, 0, 2, 2, 2, 2, 2, 2, 0, 2, 0, 2, 2, 2, 0, 0, 2, 0, 0, 2, 0, 0,\n",
       "       2, 0, 2, 0, 2, 0, 2, 2, 0, 2, 0, 0, 2, 2, 2, 2, 2, 2, 2, 0, 0, 2,\n",
       "       2, 2, 2, 2, 2, 2, 2, 0, 2, 0, 2, 0, 2, 0, 2, 0, 0, 0, 2, 2, 0, 0,\n",
       "       2, 2, 0, 2, 0, 2, 2, 2, 0, 0, 2, 0, 2, 2, 0, 0, 0, 2, 2, 0, 2, 2,\n",
       "       2, 2, 2, 0, 0, 2, 2, 0, 2, 2, 0, 0, 2, 2, 0, 0, 0, 2, 2, 0, 0, 0,\n",
       "       0, 2, 2, 0, 2, 2, 2, 2, 2, 2, 0, 2, 2, 0, 2, 2, 0, 1, 0, 0, 0, 0,\n",
       "       2, 2, 0, 1, 2, 1, 0, 1, 2, 1, 2, 1, 0, 1, 0, 1, 2, 1, 0, 1, 2, 1,\n",
       "       2, 1, 0, 1, 0, 1, 2, 1, 0, 1, 0, 1, 0, 1, 2, 1, 0, 1, 0, 1, 2, 1,\n",
       "       0, 1, 0, 1, 2, 1, 0, 1, 2, 1, 2, 1, 2, 1, 2, 1, 0, 1, 2, 1, 2, 1])"
      ]
     },
     "execution_count": 547,
     "metadata": {},
     "output_type": "execute_result"
    }
   ],
   "source": [
    "model.labels_"
   ]
  },
  {
   "cell_type": "code",
   "execution_count": 548,
   "id": "bf0db703",
   "metadata": {},
   "outputs": [],
   "source": [
    "df = df.assign(ClusterLabel = model.labels_)"
   ]
  },
  {
   "cell_type": "code",
   "execution_count": 549,
   "id": "0b0c2b8f",
   "metadata": {},
   "outputs": [
    {
     "data": {
      "text/html": [
       "<div>\n",
       "<style scoped>\n",
       "    .dataframe tbody tr th:only-of-type {\n",
       "        vertical-align: middle;\n",
       "    }\n",
       "\n",
       "    .dataframe tbody tr th {\n",
       "        vertical-align: top;\n",
       "    }\n",
       "\n",
       "    .dataframe thead th {\n",
       "        text-align: right;\n",
       "    }\n",
       "</style>\n",
       "<table border=\"1\" class=\"dataframe\">\n",
       "  <thead>\n",
       "    <tr style=\"text-align: right;\">\n",
       "      <th></th>\n",
       "      <th>Age</th>\n",
       "      <th>Annual Income (k$)</th>\n",
       "      <th>Spending Score (1-100)</th>\n",
       "      <th>Gender_Female</th>\n",
       "      <th>Gender_Male</th>\n",
       "    </tr>\n",
       "    <tr>\n",
       "      <th>ClusterLabel</th>\n",
       "      <th></th>\n",
       "      <th></th>\n",
       "      <th></th>\n",
       "      <th></th>\n",
       "      <th></th>\n",
       "    </tr>\n",
       "  </thead>\n",
       "  <tbody>\n",
       "    <tr>\n",
       "      <th>0</th>\n",
       "      <td>41.500000</td>\n",
       "      <td>55.305556</td>\n",
       "      <td>41.722222</td>\n",
       "      <td>0.000000</td>\n",
       "      <td>1.000000</td>\n",
       "    </tr>\n",
       "    <tr>\n",
       "      <th>1</th>\n",
       "      <td>32.333333</td>\n",
       "      <td>87.424242</td>\n",
       "      <td>82.757576</td>\n",
       "      <td>0.575758</td>\n",
       "      <td>0.424242</td>\n",
       "    </tr>\n",
       "    <tr>\n",
       "      <th>2</th>\n",
       "      <td>39.279570</td>\n",
       "      <td>53.451613</td>\n",
       "      <td>45.204301</td>\n",
       "      <td>1.000000</td>\n",
       "      <td>0.000000</td>\n",
       "    </tr>\n",
       "  </tbody>\n",
       "</table>\n",
       "</div>"
      ],
      "text/plain": [
       "                    Age  Annual Income (k$)  Spending Score (1-100)  \\\n",
       "ClusterLabel                                                          \n",
       "0             41.500000           55.305556               41.722222   \n",
       "1             32.333333           87.424242               82.757576   \n",
       "2             39.279570           53.451613               45.204301   \n",
       "\n",
       "              Gender_Female  Gender_Male  \n",
       "ClusterLabel                              \n",
       "0                  0.000000     1.000000  \n",
       "1                  0.575758     0.424242  \n",
       "2                  1.000000     0.000000  "
      ]
     },
     "execution_count": 549,
     "metadata": {},
     "output_type": "execute_result"
    }
   ],
   "source": [
    "df.groupby(\"ClusterLabel\")[[\"Age\",\"Annual Income (k$)\",\"Spending Score (1-100)\",\"Gender_Female\",\"Gender_Male\"]].mean()"
   ]
  },
  {
   "cell_type": "code",
   "execution_count": 550,
   "id": "8764b6da",
   "metadata": {},
   "outputs": [
    {
     "data": {
      "text/plain": [
       "0.05974495394814776"
      ]
     },
     "execution_count": 550,
     "metadata": {},
     "output_type": "execute_result"
    }
   ],
   "source": [
    "silhouette_score(df, model.labels_, metric='euclidean')"
   ]
  },
  {
   "cell_type": "code",
   "execution_count": 564,
   "id": "4833f599",
   "metadata": {},
   "outputs": [
    {
     "data": {
      "text/plain": [
       "KMeans(n_clusters=4, random_state=42)"
      ]
     },
     "execution_count": 564,
     "metadata": {},
     "output_type": "execute_result"
    }
   ],
   "source": [
    "model = KMeans(n_clusters = 4, random_state=42)\n",
    "model.fit(df_scaled)"
   ]
  },
  {
   "cell_type": "code",
   "execution_count": 565,
   "id": "73c29f4a",
   "metadata": {},
   "outputs": [],
   "source": [
    "df = df.assign(ClusterLabel = model.labels_)"
   ]
  },
  {
   "cell_type": "code",
   "execution_count": 566,
   "id": "f6d4cc0b",
   "metadata": {},
   "outputs": [
    {
     "data": {
      "text/html": [
       "<div>\n",
       "<style scoped>\n",
       "    .dataframe tbody tr th:only-of-type {\n",
       "        vertical-align: middle;\n",
       "    }\n",
       "\n",
       "    .dataframe tbody tr th {\n",
       "        vertical-align: top;\n",
       "    }\n",
       "\n",
       "    .dataframe thead th {\n",
       "        text-align: right;\n",
       "    }\n",
       "</style>\n",
       "<table border=\"1\" class=\"dataframe\">\n",
       "  <thead>\n",
       "    <tr style=\"text-align: right;\">\n",
       "      <th></th>\n",
       "      <th>Age</th>\n",
       "      <th>Annual Income (k$)</th>\n",
       "      <th>Spending Score (1-100)</th>\n",
       "      <th>Gender_Female</th>\n",
       "      <th>Gender_Male</th>\n",
       "    </tr>\n",
       "    <tr>\n",
       "      <th>ClusterLabel</th>\n",
       "      <th></th>\n",
       "      <th></th>\n",
       "      <th></th>\n",
       "      <th></th>\n",
       "      <th></th>\n",
       "    </tr>\n",
       "  </thead>\n",
       "  <tbody>\n",
       "    <tr>\n",
       "      <th>0</th>\n",
       "      <td>32.333333</td>\n",
       "      <td>87.424242</td>\n",
       "      <td>82.757576</td>\n",
       "      <td>0.575758</td>\n",
       "      <td>0.424242</td>\n",
       "    </tr>\n",
       "    <tr>\n",
       "      <th>1</th>\n",
       "      <td>42.092593</td>\n",
       "      <td>46.055556</td>\n",
       "      <td>51.407407</td>\n",
       "      <td>0.000000</td>\n",
       "      <td>1.000000</td>\n",
       "    </tr>\n",
       "    <tr>\n",
       "      <th>2</th>\n",
       "      <td>38.389610</td>\n",
       "      <td>45.584416</td>\n",
       "      <td>49.870130</td>\n",
       "      <td>1.000000</td>\n",
       "      <td>0.000000</td>\n",
       "    </tr>\n",
       "    <tr>\n",
       "      <th>3</th>\n",
       "      <td>41.529412</td>\n",
       "      <td>86.941176</td>\n",
       "      <td>17.411765</td>\n",
       "      <td>0.470588</td>\n",
       "      <td>0.529412</td>\n",
       "    </tr>\n",
       "  </tbody>\n",
       "</table>\n",
       "</div>"
      ],
      "text/plain": [
       "                    Age  Annual Income (k$)  Spending Score (1-100)  \\\n",
       "ClusterLabel                                                          \n",
       "0             32.333333           87.424242               82.757576   \n",
       "1             42.092593           46.055556               51.407407   \n",
       "2             38.389610           45.584416               49.870130   \n",
       "3             41.529412           86.941176               17.411765   \n",
       "\n",
       "              Gender_Female  Gender_Male  \n",
       "ClusterLabel                              \n",
       "0                  0.575758     0.424242  \n",
       "1                  0.000000     1.000000  \n",
       "2                  1.000000     0.000000  \n",
       "3                  0.470588     0.529412  "
      ]
     },
     "execution_count": 566,
     "metadata": {},
     "output_type": "execute_result"
    }
   ],
   "source": [
    "df.groupby(\"ClusterLabel\")[[\"Age\",\"Annual Income (k$)\",\"Spending Score (1-100)\",\"Gender_Female\",\"Gender_Male\"]].mean()"
   ]
  },
  {
   "cell_type": "code",
   "execution_count": 567,
   "id": "85af511e",
   "metadata": {},
   "outputs": [
    {
     "data": {
      "text/plain": [
       "0.15437914498437338"
      ]
     },
     "execution_count": 567,
     "metadata": {},
     "output_type": "execute_result"
    }
   ],
   "source": [
    "silhouette_score(df, model.labels_)"
   ]
  },
  {
   "cell_type": "code",
   "execution_count": 555,
   "id": "fb43e6fb",
   "metadata": {},
   "outputs": [
    {
     "data": {
      "text/plain": [
       "KMeans(n_clusters=5, random_state=42)"
      ]
     },
     "execution_count": 555,
     "metadata": {},
     "output_type": "execute_result"
    }
   ],
   "source": [
    "model = KMeans(n_clusters = 5, random_state=42)\n",
    "model.fit(df_scaled)"
   ]
  },
  {
   "cell_type": "code",
   "execution_count": 556,
   "id": "16f1db56",
   "metadata": {},
   "outputs": [],
   "source": [
    "df = df.assign(ClusterLabel = model.labels_)"
   ]
  },
  {
   "cell_type": "code",
   "execution_count": 557,
   "id": "335e7ac7",
   "metadata": {},
   "outputs": [
    {
     "data": {
      "text/html": [
       "<div>\n",
       "<style scoped>\n",
       "    .dataframe tbody tr th:only-of-type {\n",
       "        vertical-align: middle;\n",
       "    }\n",
       "\n",
       "    .dataframe tbody tr th {\n",
       "        vertical-align: top;\n",
       "    }\n",
       "\n",
       "    .dataframe thead th {\n",
       "        text-align: right;\n",
       "    }\n",
       "</style>\n",
       "<table border=\"1\" class=\"dataframe\">\n",
       "  <thead>\n",
       "    <tr style=\"text-align: right;\">\n",
       "      <th></th>\n",
       "      <th>Age</th>\n",
       "      <th>Annual Income (k$)</th>\n",
       "      <th>Spending Score (1-100)</th>\n",
       "      <th>Gender_Female</th>\n",
       "      <th>Gender_Male</th>\n",
       "    </tr>\n",
       "    <tr>\n",
       "      <th>ClusterLabel</th>\n",
       "      <th></th>\n",
       "      <th></th>\n",
       "      <th></th>\n",
       "      <th></th>\n",
       "      <th></th>\n",
       "    </tr>\n",
       "  </thead>\n",
       "  <tbody>\n",
       "    <tr>\n",
       "      <th>0</th>\n",
       "      <td>46.113636</td>\n",
       "      <td>50.909091</td>\n",
       "      <td>46.318182</td>\n",
       "      <td>0.000000</td>\n",
       "      <td>1.000000</td>\n",
       "    </tr>\n",
       "    <tr>\n",
       "      <th>1</th>\n",
       "      <td>41.174603</td>\n",
       "      <td>50.142857</td>\n",
       "      <td>43.698413</td>\n",
       "      <td>1.000000</td>\n",
       "      <td>0.000000</td>\n",
       "    </tr>\n",
       "    <tr>\n",
       "      <th>2</th>\n",
       "      <td>25.250000</td>\n",
       "      <td>24.916667</td>\n",
       "      <td>76.041667</td>\n",
       "      <td>0.583333</td>\n",
       "      <td>0.416667</td>\n",
       "    </tr>\n",
       "    <tr>\n",
       "      <th>3</th>\n",
       "      <td>32.333333</td>\n",
       "      <td>87.424242</td>\n",
       "      <td>82.757576</td>\n",
       "      <td>0.575758</td>\n",
       "      <td>0.424242</td>\n",
       "    </tr>\n",
       "    <tr>\n",
       "      <th>4</th>\n",
       "      <td>41.529412</td>\n",
       "      <td>86.941176</td>\n",
       "      <td>17.411765</td>\n",
       "      <td>0.470588</td>\n",
       "      <td>0.529412</td>\n",
       "    </tr>\n",
       "  </tbody>\n",
       "</table>\n",
       "</div>"
      ],
      "text/plain": [
       "                    Age  Annual Income (k$)  Spending Score (1-100)  \\\n",
       "ClusterLabel                                                          \n",
       "0             46.113636           50.909091               46.318182   \n",
       "1             41.174603           50.142857               43.698413   \n",
       "2             25.250000           24.916667               76.041667   \n",
       "3             32.333333           87.424242               82.757576   \n",
       "4             41.529412           86.941176               17.411765   \n",
       "\n",
       "              Gender_Female  Gender_Male  \n",
       "ClusterLabel                              \n",
       "0                  0.000000     1.000000  \n",
       "1                  1.000000     0.000000  \n",
       "2                  0.583333     0.416667  \n",
       "3                  0.575758     0.424242  \n",
       "4                  0.470588     0.529412  "
      ]
     },
     "execution_count": 557,
     "metadata": {},
     "output_type": "execute_result"
    }
   ],
   "source": [
    "df.groupby(\"ClusterLabel\")[[\"Age\",\"Annual Income (k$)\",\"Spending Score (1-100)\",\"Gender_Female\",\"Gender_Male\"]].mean()"
   ]
  },
  {
   "cell_type": "code",
   "execution_count": 558,
   "id": "876c1c38",
   "metadata": {},
   "outputs": [
    {
     "data": {
      "text/plain": [
       "0.22214152287079997"
      ]
     },
     "execution_count": 558,
     "metadata": {},
     "output_type": "execute_result"
    }
   ],
   "source": [
    "silhouette_score(df, model.labels_, metric='euclidean')"
   ]
  },
  {
   "cell_type": "code",
   "execution_count": 559,
   "id": "bfdd6206",
   "metadata": {},
   "outputs": [
    {
     "data": {
      "text/plain": [
       "KMeans(n_clusters=6, random_state=42)"
      ]
     },
     "execution_count": 559,
     "metadata": {},
     "output_type": "execute_result"
    }
   ],
   "source": [
    "model = KMeans(n_clusters = 6, random_state=42)\n",
    "model.fit(df_scaled)"
   ]
  },
  {
   "cell_type": "code",
   "execution_count": 560,
   "id": "4b19f8f4",
   "metadata": {},
   "outputs": [],
   "source": [
    "df = df.assign(ClusterLabel = model.labels_)"
   ]
  },
  {
   "cell_type": "code",
   "execution_count": 561,
   "id": "a3fe4763",
   "metadata": {},
   "outputs": [
    {
     "data": {
      "text/html": [
       "<div>\n",
       "<style scoped>\n",
       "    .dataframe tbody tr th:only-of-type {\n",
       "        vertical-align: middle;\n",
       "    }\n",
       "\n",
       "    .dataframe tbody tr th {\n",
       "        vertical-align: top;\n",
       "    }\n",
       "\n",
       "    .dataframe thead th {\n",
       "        text-align: right;\n",
       "    }\n",
       "</style>\n",
       "<table border=\"1\" class=\"dataframe\">\n",
       "  <thead>\n",
       "    <tr style=\"text-align: right;\">\n",
       "      <th></th>\n",
       "      <th>Age</th>\n",
       "      <th>Annual Income (k$)</th>\n",
       "      <th>Spending Score (1-100)</th>\n",
       "      <th>Gender_Female</th>\n",
       "      <th>Gender_Male</th>\n",
       "    </tr>\n",
       "    <tr>\n",
       "      <th>ClusterLabel</th>\n",
       "      <th></th>\n",
       "      <th></th>\n",
       "      <th></th>\n",
       "      <th></th>\n",
       "      <th></th>\n",
       "    </tr>\n",
       "  </thead>\n",
       "  <tbody>\n",
       "    <tr>\n",
       "      <th>0</th>\n",
       "      <td>32.0</td>\n",
       "      <td>87.0</td>\n",
       "      <td>83.0</td>\n",
       "      <td>1.0</td>\n",
       "      <td>0.0</td>\n",
       "    </tr>\n",
       "    <tr>\n",
       "      <th>1</th>\n",
       "      <td>42.0</td>\n",
       "      <td>67.0</td>\n",
       "      <td>43.0</td>\n",
       "      <td>1.0</td>\n",
       "      <td>0.0</td>\n",
       "    </tr>\n",
       "    <tr>\n",
       "      <th>2</th>\n",
       "      <td>34.0</td>\n",
       "      <td>29.0</td>\n",
       "      <td>50.0</td>\n",
       "      <td>1.0</td>\n",
       "      <td>0.0</td>\n",
       "    </tr>\n",
       "    <tr>\n",
       "      <th>3</th>\n",
       "      <td>40.0</td>\n",
       "      <td>82.0</td>\n",
       "      <td>14.0</td>\n",
       "      <td>0.0</td>\n",
       "      <td>1.0</td>\n",
       "    </tr>\n",
       "    <tr>\n",
       "      <th>4</th>\n",
       "      <td>58.0</td>\n",
       "      <td>48.0</td>\n",
       "      <td>41.0</td>\n",
       "      <td>0.0</td>\n",
       "      <td>1.0</td>\n",
       "    </tr>\n",
       "    <tr>\n",
       "      <th>5</th>\n",
       "      <td>27.0</td>\n",
       "      <td>43.0</td>\n",
       "      <td>62.0</td>\n",
       "      <td>0.0</td>\n",
       "      <td>1.0</td>\n",
       "    </tr>\n",
       "  </tbody>\n",
       "</table>\n",
       "</div>"
      ],
      "text/plain": [
       "               Age  Annual Income (k$)  Spending Score (1-100)  Gender_Female  \\\n",
       "ClusterLabel                                                                    \n",
       "0             32.0                87.0                    83.0            1.0   \n",
       "1             42.0                67.0                    43.0            1.0   \n",
       "2             34.0                29.0                    50.0            1.0   \n",
       "3             40.0                82.0                    14.0            0.0   \n",
       "4             58.0                48.0                    41.0            0.0   \n",
       "5             27.0                43.0                    62.0            0.0   \n",
       "\n",
       "              Gender_Male  \n",
       "ClusterLabel               \n",
       "0                     0.0  \n",
       "1                     0.0  \n",
       "2                     0.0  \n",
       "3                     1.0  \n",
       "4                     1.0  \n",
       "5                     1.0  "
      ]
     },
     "execution_count": 561,
     "metadata": {},
     "output_type": "execute_result"
    }
   ],
   "source": [
    "df.groupby(\"ClusterLabel\")[[\"Age\",\"Annual Income (k$)\",\"Spending Score (1-100)\",\"Gender_Female\",\"Gender_Male\"]].mean().round()"
   ]
  },
  {
   "cell_type": "code",
   "execution_count": 562,
   "id": "48598d40",
   "metadata": {},
   "outputs": [
    {
     "data": {
      "text/plain": [
       "0.0853073303470764"
      ]
     },
     "execution_count": 562,
     "metadata": {},
     "output_type": "execute_result"
    }
   ],
   "source": [
    "silhouette_score(df, model.labels_, metric='euclidean')"
   ]
  },
  {
   "cell_type": "code",
   "execution_count": 280,
   "id": "24d2d218",
   "metadata": {},
   "outputs": [
    {
     "name": "stderr",
     "output_type": "stream",
     "text": [
      "D:\\Anaconda\\lib\\site-packages\\seaborn\\regression.py:592: UserWarning:\n",
      "\n",
      "legend_out is deprecated from the `lmplot` function signature. Please update your code to pass it using `facet_kws`.\n",
      "\n"
     ]
    },
    {
     "data": {
      "image/png": "[encoded data removed]",
      "text/plain": [
       "<Figure size 430.375x360 with 1 Axes>"
      ]
     },
     "metadata": {
      "needs_background": "light"
     },
     "output_type": "display_data"
    }
   ],
   "source": [
    "facet = sns.lmplot(data=df, x='Age', y='Annual Income (k$)', hue='ClusterLabel', \n",
    "                   fit_reg=False, legend=True, legend_out=True)\n"
   ]
  },
  {
   "cell_type": "code",
   "execution_count": 281,
   "id": "baf4e9cd",
   "metadata": {},
   "outputs": [
    {
     "name": "stderr",
     "output_type": "stream",
     "text": [
      "D:\\Anaconda\\lib\\site-packages\\seaborn\\regression.py:592: UserWarning:\n",
      "\n",
      "legend_out is deprecated from the `lmplot` function signature. Please update your code to pass it using `facet_kws`.\n",
      "\n"
     ]
    },
    {
     "data": {
      "image/png": "[encoded data removed]",
      "text/plain": [
       "<Figure size 430.375x360 with 1 Axes>"
      ]
     },
     "metadata": {
      "needs_background": "light"
     },
     "output_type": "display_data"
    }
   ],
   "source": [
    "facet = sns.lmplot(data=df, x='Age', y='Spending Score (1-100)', hue='ClusterLabel', \n",
    "                   fit_reg=False, legend=True, legend_out=True)\n"
   ]
  },
  {
   "cell_type": "markdown",
   "id": "5b00098d",
   "metadata": {},
   "source": [
    "From above plot we can se that our model has not separated clusters efficiently. The same can is visible in Silhouette Coefficient"
   ]
  },
  {
   "cell_type": "markdown",
   "id": "7296c5a5",
   "metadata": {},
   "source": [
    "# DBSCAN Clustering \n",
    "   Density Based Spatial Clsutering of Applications"
   ]
  },
  {
   "cell_type": "markdown",
   "id": "57aa27b5",
   "metadata": {},
   "source": [
    "DBSCAN separates the high density regions of the data from low-density areas. The no of clusters in prior do not need to be provided for this algorithm. It consides clusters as continous regions of high density. This helps us track outliers as the points in the low density regions. Hence, it is not sensitive to Outliers as K-means Clustering.\n",
    "\n",
    "DBSCAN PARAMETERS\n",
    "\n",
    "Epsilon : The minimum distance between two points to be termed as neighbours. \n",
    "MinPoints : This refers to the minimum number of points needed to construct a cluster.\n",
    "\n",
    "DATA POINTS in DBSCAN\n",
    "\n",
    "Core: This is a point from which the two parameters above are fully defined, i.e., a point with at least Minpoints within the Eps distance from itself.\n",
    "\n",
    "Border: This is any data point that is not a core point, but it has at least one Core point within Eps distance from itself.\n",
    "\n",
    "Noise: This is a point with less than Minpoints within distance Eps from itself. Thus, it’s not a Core or a Border.\n",
    "\n"
   ]
  },
  {
   "cell_type": "markdown",
   "id": "0d7bac39",
   "metadata": {},
   "source": [
    "#### ADVANTAGES:"
   ]
  },
  {
   "cell_type": "markdown",
   "id": "3bc36d60",
   "metadata": {},
   "source": [
    "1. DBSCAN is able to find clusters in arbitarily shaped data\n",
    "2. DBSCAN is able to identify noise in dataset"
   ]
  },
  {
   "cell_type": "markdown",
   "id": "af390476",
   "metadata": {},
   "source": [
    "#### DISADVANTAGES"
   ]
  },
  {
   "cell_type": "markdown",
   "id": "d9399b72",
   "metadata": {},
   "source": [
    "1. Does not work well in high dimensional data"
   ]
  },
  {
   "cell_type": "code",
   "execution_count": 568,
   "id": "d406ac2d",
   "metadata": {},
   "outputs": [],
   "source": [
    "df1 = pd.read_csv(r\"https://raw.githubusercontent.com/NelakurthiSudheer/Mall-Customers-Segmentation/main/Dataset/Mall_Customers.csv\")"
   ]
  },
  {
   "cell_type": "code",
   "execution_count": 569,
   "id": "cb9239d4",
   "metadata": {},
   "outputs": [],
   "source": [
    "df1.drop(['CustomerID'], axis=1, inplace=True)"
   ]
  },
  {
   "cell_type": "code",
   "execution_count": 570,
   "id": "cb8794e7",
   "metadata": {},
   "outputs": [],
   "source": [
    "df1 = pd.get_dummies(df1, columns=['Gender'])"
   ]
  },
  {
   "cell_type": "code",
   "execution_count": 571,
   "id": "27180a05",
   "metadata": {},
   "outputs": [],
   "source": [
    "from sklearn.cluster import DBSCAN\n",
    "import numpy as np"
   ]
  },
  {
   "cell_type": "code",
   "execution_count": 572,
   "id": "c9875c7c",
   "metadata": {},
   "outputs": [],
   "source": [
    "# DBSCAN Clustering\n",
    "DBS_clustering = DBSCAN(eps=12.5, min_samples=4).fit(df1)\n",
    "\n",
    "DBSCAN_clustered = df1.copy()\n",
    "DBSCAN_clustered.loc[:,'Cluster'] = DBS_clustering.labels_ "
   ]
  },
  {
   "cell_type": "code",
   "execution_count": 573,
   "id": "9c40da60",
   "metadata": {},
   "outputs": [],
   "source": [
    "y_pred = dbscan.fit_predict(df1)"
   ]
  },
  {
   "cell_type": "code",
   "execution_count": 574,
   "id": "f12f1006",
   "metadata": {},
   "outputs": [
    {
     "data": {
      "text/plain": [
       "array([ 0,  0, -1,  0,  0,  0, -1, -1,  1,  0, -1, -1,  1,  0, -1,  0,  0,\n",
       "        0,  0, -1,  0,  0,  1,  0,  1,  0,  0,  0,  0,  0,  1,  0,  1,  0,\n",
       "        1,  0,  1,  0,  0,  0, -1,  0,  0,  0,  0,  0,  0,  0,  0,  0,  0,\n",
       "        0,  0,  0,  0,  0,  0,  0,  0,  0,  0,  0,  0,  0,  0,  0,  0,  0,\n",
       "        0,  0,  0,  0,  0,  0,  0,  0,  0,  0,  0,  0,  0,  0,  0,  0,  0,\n",
       "        0,  0,  0,  0,  0,  0,  0,  0,  0,  0,  0,  0,  0,  0,  0,  0,  0,\n",
       "        0,  0,  0,  0,  0,  0,  0,  0,  0,  0,  0,  0,  0,  0,  0,  0,  0,\n",
       "        0,  0,  0,  0,  2,  0,  2,  0,  2,  3,  2,  3,  2,  0,  2,  4,  2,\n",
       "        3,  2,  4,  2,  3,  2,  0,  2,  4,  2,  0,  2,  3,  2,  3,  2,  3,\n",
       "        2,  3,  2,  3,  2, -1,  2,  3,  2,  4,  2,  3,  2,  3,  2,  3,  2,\n",
       "        3,  2,  3,  2,  3,  2,  3,  2,  3,  2,  3,  2,  3,  2,  3,  2,  3,\n",
       "       -1,  3,  2,  3, -1, -1,  2, -1, -1, -1, -1, -1, -1], dtype=int64)"
      ]
     },
     "execution_count": 574,
     "metadata": {},
     "output_type": "execute_result"
    }
   ],
   "source": [
    "y_pred"
   ]
  },
  {
   "cell_type": "code",
   "execution_count": 575,
   "id": "1c8cd92b",
   "metadata": {},
   "outputs": [],
   "source": [
    "# Assigning Cluster Labels to Dataset\n",
    "df1 = df1.assign(ClusterLabel = dbscan.labels_)"
   ]
  },
  {
   "cell_type": "code",
   "execution_count": 576,
   "id": "ea51c8e6",
   "metadata": {},
   "outputs": [
    {
     "data": {
      "text/html": [
       "<div>\n",
       "<style scoped>\n",
       "    .dataframe tbody tr th:only-of-type {\n",
       "        vertical-align: middle;\n",
       "    }\n",
       "\n",
       "    .dataframe tbody tr th {\n",
       "        vertical-align: top;\n",
       "    }\n",
       "\n",
       "    .dataframe thead th {\n",
       "        text-align: right;\n",
       "    }\n",
       "</style>\n",
       "<table border=\"1\" class=\"dataframe\">\n",
       "  <thead>\n",
       "    <tr style=\"text-align: right;\">\n",
       "      <th></th>\n",
       "      <th>Age</th>\n",
       "      <th>Annual Income (k$)</th>\n",
       "      <th>Spending Score (1-100)</th>\n",
       "      <th>Gender_Female</th>\n",
       "      <th>Gender_Male</th>\n",
       "    </tr>\n",
       "    <tr>\n",
       "      <th>ClusterLabel</th>\n",
       "      <th></th>\n",
       "      <th></th>\n",
       "      <th></th>\n",
       "      <th></th>\n",
       "      <th></th>\n",
       "    </tr>\n",
       "  </thead>\n",
       "  <tbody>\n",
       "    <tr>\n",
       "      <th>-1</th>\n",
       "      <td>37.0</td>\n",
       "      <td>74.0</td>\n",
       "      <td>45.0</td>\n",
       "      <td>1.0</td>\n",
       "      <td>0.0</td>\n",
       "    </tr>\n",
       "    <tr>\n",
       "      <th>0</th>\n",
       "      <td>39.0</td>\n",
       "      <td>48.0</td>\n",
       "      <td>52.0</td>\n",
       "      <td>1.0</td>\n",
       "      <td>0.0</td>\n",
       "    </tr>\n",
       "    <tr>\n",
       "      <th>1</th>\n",
       "      <td>53.0</td>\n",
       "      <td>28.0</td>\n",
       "      <td>10.0</td>\n",
       "      <td>1.0</td>\n",
       "      <td>0.0</td>\n",
       "    </tr>\n",
       "    <tr>\n",
       "      <th>2</th>\n",
       "      <td>33.0</td>\n",
       "      <td>82.0</td>\n",
       "      <td>83.0</td>\n",
       "      <td>1.0</td>\n",
       "      <td>0.0</td>\n",
       "    </tr>\n",
       "    <tr>\n",
       "      <th>3</th>\n",
       "      <td>46.0</td>\n",
       "      <td>86.0</td>\n",
       "      <td>18.0</td>\n",
       "      <td>1.0</td>\n",
       "      <td>0.0</td>\n",
       "    </tr>\n",
       "    <tr>\n",
       "      <th>4</th>\n",
       "      <td>21.0</td>\n",
       "      <td>76.0</td>\n",
       "      <td>8.0</td>\n",
       "      <td>0.0</td>\n",
       "      <td>1.0</td>\n",
       "    </tr>\n",
       "  </tbody>\n",
       "</table>\n",
       "</div>"
      ],
      "text/plain": [
       "               Age  Annual Income (k$)  Spending Score (1-100)  Gender_Female  \\\n",
       "ClusterLabel                                                                    \n",
       "-1            37.0                74.0                    45.0            1.0   \n",
       " 0            39.0                48.0                    52.0            1.0   \n",
       " 1            53.0                28.0                    10.0            1.0   \n",
       " 2            33.0                82.0                    83.0            1.0   \n",
       " 3            46.0                86.0                    18.0            1.0   \n",
       " 4            21.0                76.0                     8.0            0.0   \n",
       "\n",
       "              Gender_Male  \n",
       "ClusterLabel               \n",
       "-1                    0.0  \n",
       " 0                    0.0  \n",
       " 1                    0.0  \n",
       " 2                    0.0  \n",
       " 3                    0.0  \n",
       " 4                    1.0  "
      ]
     },
     "execution_count": 576,
     "metadata": {},
     "output_type": "execute_result"
    }
   ],
   "source": [
    "df1.groupby(\"ClusterLabel\")[[\"Age\",\"Annual Income (k$)\",\"Spending Score (1-100)\",\"Gender_Female\",\"Gender_Male\"]].mean().round()"
   ]
  },
  {
   "cell_type": "code",
   "execution_count": 530,
   "id": "17dae0c6",
   "metadata": {},
   "outputs": [
    {
     "data": {
      "text/plain": [
       "Text(0.5, 1.0, 'Clusters determined by DBSCAN')"
      ]
     },
     "execution_count": 530,
     "metadata": {},
     "output_type": "execute_result"
    },
    {
     "data": {
      "image/png": "[encoded data removed]",
      "text/plain": [
       "<Figure size 720x432 with 1 Axes>"
      ]
     },
     "metadata": {
      "needs_background": "light"
     },
     "output_type": "display_data"
    }
   ],
   "source": [
    "#Cluster Plot of Age Vs Spending Score\n",
    "plt.figure(figsize=(10,6))\n",
    "plt.scatter(x=df1['Age'], y=df1['Spending Score (1-100)'],c=y_pred, cmap='Paired')\n",
    "plt.title(\"Clusters determined by DBSCAN\")"
   ]
  },
  {
   "cell_type": "code",
   "execution_count": 578,
   "id": "7fbc0d41",
   "metadata": {},
   "outputs": [
    {
     "data": {
      "text/plain": [
       "0.25628651746128506"
      ]
     },
     "execution_count": 578,
     "metadata": {},
     "output_type": "execute_result"
    }
   ],
   "source": [
    "silhouette_score(df1, dbscan.labels_)"
   ]
  },
  {
   "cell_type": "code",
   "execution_count": 579,
   "id": "0044c209",
   "metadata": {},
   "outputs": [
    {
     "data": {
      "text/html": [
       "<div>\n",
       "<style scoped>\n",
       "    .dataframe tbody tr th:only-of-type {\n",
       "        vertical-align: middle;\n",
       "    }\n",
       "\n",
       "    .dataframe tbody tr th {\n",
       "        vertical-align: top;\n",
       "    }\n",
       "\n",
       "    .dataframe thead th {\n",
       "        text-align: right;\n",
       "    }\n",
       "</style>\n",
       "<table border=\"1\" class=\"dataframe\">\n",
       "  <thead>\n",
       "    <tr style=\"text-align: right;\">\n",
       "      <th></th>\n",
       "      <th>DBSCAN_size</th>\n",
       "    </tr>\n",
       "    <tr>\n",
       "      <th>Cluster</th>\n",
       "      <th></th>\n",
       "    </tr>\n",
       "  </thead>\n",
       "  <tbody>\n",
       "    <tr>\n",
       "      <th>-1</th>\n",
       "      <td>18</td>\n",
       "    </tr>\n",
       "    <tr>\n",
       "      <th>0</th>\n",
       "      <td>112</td>\n",
       "    </tr>\n",
       "    <tr>\n",
       "      <th>1</th>\n",
       "      <td>8</td>\n",
       "    </tr>\n",
       "    <tr>\n",
       "      <th>2</th>\n",
       "      <td>34</td>\n",
       "    </tr>\n",
       "    <tr>\n",
       "      <th>3</th>\n",
       "      <td>24</td>\n",
       "    </tr>\n",
       "    <tr>\n",
       "      <th>4</th>\n",
       "      <td>4</td>\n",
       "    </tr>\n",
       "  </tbody>\n",
       "</table>\n",
       "</div>"
      ],
      "text/plain": [
       "         DBSCAN_size\n",
       "Cluster             \n",
       "-1                18\n",
       " 0               112\n",
       " 1                 8\n",
       " 2                34\n",
       " 3                24\n",
       " 4                 4"
      ]
     },
     "execution_count": 579,
     "metadata": {},
     "output_type": "execute_result"
    }
   ],
   "source": [
    "# No of Points in a Cluster\n",
    "DBSCAN_clust_sizes = DBSCAN_clustered.groupby('Cluster').size().to_frame()\n",
    "DBSCAN_clust_sizes.columns = [\"DBSCAN_size\"]\n",
    "DBSCAN_clust_sizes"
   ]
  },
  {
   "cell_type": "markdown",
   "id": "332bf409",
   "metadata": {},
   "source": [
    "Observation:\n",
    "\n",
    "-1 is assigned to the points which are considered to be Noise. Therefore we have 18 Noise Points here."
   ]
  },
  {
   "cell_type": "markdown",
   "id": "e09ec69a",
   "metadata": {},
   "source": [
    "# Non-Hierarchical Clustering"
   ]
  },
  {
   "cell_type": "markdown",
   "id": "eef36639",
   "metadata": {},
   "source": [
    "Non-Hierarchical Clustering can be divided into Bottom-Up ( Aglomerative ) and Top -Down ( Decisive ) Clustering. This type of clustering does not need to enter the no of K. Instead it creates a dendogram or Tree Based Structure."
   ]
  },
  {
   "cell_type": "markdown",
   "id": "379dd1ca",
   "metadata": {},
   "source": [
    "#### ADVANTAGES"
   ]
  },
  {
   "cell_type": "markdown",
   "id": "9b8ad66d",
   "metadata": {},
   "source": [
    "1. Dendogram help us in identifying correct no of clusters"
   ]
  },
  {
   "cell_type": "markdown",
   "id": "486b0636",
   "metadata": {},
   "source": [
    "#### DISADVANTAGES"
   ]
  },
  {
   "cell_type": "markdown",
   "id": "0ac2505b",
   "metadata": {},
   "source": [
    "1. Outliers can cause less than optimal merging"
   ]
  },
  {
   "cell_type": "markdown",
   "id": "53faea61",
   "metadata": {},
   "source": [
    "#### Aglomerative Clustering"
   ]
  },
  {
   "cell_type": "code",
   "execution_count": 580,
   "id": "61c4fe5e",
   "metadata": {},
   "outputs": [],
   "source": [
    "# Importing Libraries\n",
    "from sklearn.decomposition import PCA\n",
    "from sklearn.cluster import AgglomerativeClustering\n",
    "from sklearn.preprocessing import StandardScaler, normalize\n",
    "from sklearn.metrics import silhouette_score\n",
    "import scipy.cluster.hierarchy as shc"
   ]
  },
  {
   "cell_type": "markdown",
   "id": "29710a25",
   "metadata": {},
   "source": [
    "\n",
    "Linkage Methods\n",
    "\n",
    "Single Linkage: Minimum Distance between instances of two considered clusters. The distance calculation can be either Euclidean or Manhattan Distance\n",
    "\n",
    "Complete Linkage: The farthest distance between the instances of two class. \n",
    "\n",
    "Average Linkage: The average distance between all linkages is considered.\n",
    "\n",
    "Centroid Linkage: The distance between the two centroid is considered.\n",
    "\n",
    "Ward Linkage: The distance between two clusters say A and B are how much the sum of squares will increase when they both are merged. \n"
   ]
  },
  {
   "cell_type": "markdown",
   "id": "1c3f3fc0",
   "metadata": {},
   "source": [
    "#### Dendogram Visualization using different linkage methods"
   ]
  },
  {
   "cell_type": "code",
   "execution_count": 581,
   "id": "24a66b1d",
   "metadata": {},
   "outputs": [
    {
     "data": {
      "image/png": "[encoded data removed]",
      "text/plain": [
       "<Figure size 576x576 with 1 Axes>"
      ]
     },
     "metadata": {
      "needs_background": "light"
     },
     "output_type": "display_data"
    }
   ],
   "source": [
    "# WARD LINKAGE METHOD\n",
    "plt.figure(figsize =(8, 8))\n",
    "plt.title('Visualising the data')\n",
    "Dendrogram_ward = shc.dendrogram((shc.linkage(df_scaled,metric='euclidean', method ='ward')))"
   ]
  },
  {
   "cell_type": "code",
   "execution_count": 511,
   "id": "7703c47d",
   "metadata": {},
   "outputs": [
    {
     "data": {
      "image/png": "[encoded data removed]",
      "text/plain": [
       "<Figure size 576x576 with 1 Axes>"
      ]
     },
     "metadata": {
      "needs_background": "light"
     },
     "output_type": "display_data"
    }
   ],
   "source": [
    "# AVERAGE LINKAGE METHOD\n",
    "plt.figure(figsize =(8, 8))\n",
    "plt.title('Visualising the data')\n",
    "Dendrogram_average = shc.dendrogram((shc.linkage(df_scaled,metric='euclidean', method ='average')))"
   ]
  },
  {
   "cell_type": "code",
   "execution_count": 512,
   "id": "2832a273",
   "metadata": {},
   "outputs": [
    {
     "data": {
      "image/png": "[encoded data removed]",
      "text/plain": [
       "<Figure size 576x576 with 1 Axes>"
      ]
     },
     "metadata": {
      "needs_background": "light"
     },
     "output_type": "display_data"
    }
   ],
   "source": [
    "#COMPLETE LINKAGE METHOD\n",
    "plt.figure(figsize =(8, 8))\n",
    "plt.title('Visualising the data')\n",
    "Dendrogram_complete = shc.dendrogram((shc.linkage(df_scaled, metric='euclidean',method ='complete')))"
   ]
  },
  {
   "cell_type": "code",
   "execution_count": 513,
   "id": "003b614c",
   "metadata": {},
   "outputs": [
    {
     "data": {
      "image/png": "[encoded data removed]",
      "text/plain": [
       "<Figure size 576x576 with 1 Axes>"
      ]
     },
     "metadata": {
      "needs_background": "light"
     },
     "output_type": "display_data"
    }
   ],
   "source": [
    "#SINGLE LINKAGE METHOD\n",
    "plt.figure(figsize =(8, 8))\n",
    "plt.title('Visualising the data')\n",
    "Dendrogram_single = shc.dendrogram((shc.linkage(df_scaled,metric='euclidean', method ='single')))"
   ]
  },
  {
   "cell_type": "markdown",
   "id": "53673d3e",
   "metadata": {},
   "source": [
    "#### Plot with 4 Clusters"
   ]
  },
  {
   "cell_type": "code",
   "execution_count": 252,
   "id": "0bf40f42",
   "metadata": {},
   "outputs": [
    {
     "data": {
      "image/png": "[encoded data removed]",
      "text/plain": [
       "<Figure size 432x432 with 1 Axes>"
      ]
     },
     "metadata": {
      "needs_background": "light"
     },
     "output_type": "display_data"
    }
   ],
   "source": [
    "# AGLOMERATIVE WITH 4 CLUSTERS\n",
    "ac2 = AgglomerativeClustering(n_clusters = 4)\n",
    " \n",
    "# Visualizing the clustering\n",
    "plt.figure(figsize =(6, 6))\n",
    "plt.scatter(df['Age'], df['Spending Score (1-100)'],\n",
    "           c = ac2.fit_predict(df), cmap ='rainbow')\n",
    "plt.show()"
   ]
  },
  {
   "cell_type": "code",
   "execution_count": 582,
   "id": "5a84b00c",
   "metadata": {},
   "outputs": [
    {
     "data": {
      "text/plain": [
       "array([0, 0, 0, 0, 0, 0, 0, 0, 0, 0, 0, 0, 0, 0, 0, 0, 0, 0, 0, 0, 0, 0,\n",
       "       0, 0, 0, 0, 0, 0, 0, 0, 0, 0, 0, 0, 0, 0, 0, 0, 0, 0, 0, 0, 0, 2,\n",
       "       0, 2, 2, 2, 2, 2, 2, 2, 2, 2, 2, 2, 2, 2, 2, 2, 2, 2, 2, 2, 2, 2,\n",
       "       2, 2, 2, 2, 2, 2, 2, 2, 2, 2, 2, 2, 2, 2, 2, 2, 2, 2, 2, 2, 2, 2,\n",
       "       2, 2, 2, 2, 2, 2, 2, 2, 2, 2, 2, 2, 2, 2, 2, 2, 2, 2, 2, 2, 2, 2,\n",
       "       2, 2, 2, 2, 2, 2, 2, 2, 2, 2, 2, 2, 2, 1, 3, 1, 2, 1, 3, 1, 3, 1,\n",
       "       3, 1, 3, 1, 3, 1, 3, 1, 3, 1, 3, 1, 3, 1, 3, 1, 3, 1, 3, 1, 3, 1,\n",
       "       3, 1, 3, 1, 3, 1, 3, 1, 3, 1, 3, 1, 3, 1, 3, 1, 3, 1, 3, 1, 3, 1,\n",
       "       3, 1, 3, 1, 3, 1, 3, 1, 3, 1, 3, 1, 3, 1, 3, 1, 3, 1, 3, 1, 3, 1],\n",
       "      dtype=int64)"
      ]
     },
     "execution_count": 582,
     "metadata": {},
     "output_type": "execute_result"
    }
   ],
   "source": [
    "ac2.labels_"
   ]
  },
  {
   "cell_type": "code",
   "execution_count": 584,
   "id": "75c9e714",
   "metadata": {},
   "outputs": [
    {
     "data": {
      "text/plain": [
       "0.4188080321893158"
      ]
     },
     "execution_count": 584,
     "metadata": {},
     "output_type": "execute_result"
    }
   ],
   "source": [
    "silhouette_score(df, ac2.labels_)"
   ]
  }
 ],
 "metadata": {
  "kernelspec": {
   "display_name": "Python 3 (ipykernel)",
   "language": "python",
   "name": "python3"
  },
  "language_info": {
   "codemirror_mode": {
    "name": "ipython",
    "version": 3
   },
   "file_extension": ".py",
   "mimetype": "text/x-python",
   "name": "python",
   "nbconvert_exporter": "python",
   "pygments_lexer": "ipython3",
   "version": "3.9.12"
  }
 },
 "nbformat": 4,
 "nbformat_minor": 5
}
